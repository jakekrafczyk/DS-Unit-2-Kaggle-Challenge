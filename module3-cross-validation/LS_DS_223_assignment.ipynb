{
  "nbformat": 4,
  "nbformat_minor": 0,
  "metadata": {
    "kernelspec": {
      "display_name": "Python 3",
      "language": "python",
      "name": "python3"
    },
    "language_info": {
      "codemirror_mode": {
        "name": "ipython",
        "version": 3
      },
      "file_extension": ".py",
      "mimetype": "text/x-python",
      "name": "python",
      "nbconvert_exporter": "python",
      "pygments_lexer": "ipython3",
      "version": "3.7.6"
    },
    "colab": {
      "name": "Copy of LS_DS_223_assignment.ipynb",
      "provenance": [],
      "include_colab_link": true
    }
  },
  "cells": [
    {
      "cell_type": "markdown",
      "metadata": {
        "id": "view-in-github",
        "colab_type": "text"
      },
      "source": [
        "<a href=\"https://colab.research.google.com/github/jakekrafczyk/DS-Unit-2-Kaggle-Challenge/blob/master/module3-cross-validation/LS_DS_223_assignment.ipynb\" target=\"_parent\"><img src=\"https://colab.research.google.com/assets/colab-badge.svg\" alt=\"Open In Colab\"/></a>"
      ]
    },
    {
      "cell_type": "markdown",
      "metadata": {
        "id": "NumndOG9h4wk",
        "colab_type": "text"
      },
      "source": [
        "Lambda School Data Science\n",
        "\n",
        "*Unit 2, Sprint 2, Module 3*\n",
        "\n",
        "---"
      ]
    },
    {
      "cell_type": "markdown",
      "metadata": {
        "id": "eYVS1_MSh4w3",
        "colab_type": "text"
      },
      "source": [
        "# Cross-Validation\n",
        "\n",
        "\n",
        "## Assignment\n",
        "- [ ] [Review requirements for your portfolio project](https://lambdaschool.github.io/ds/unit2), then submit your dataset.\n",
        "- [ ] Continue to participate in our Kaggle challenge. \n",
        "- [ ] Use scikit-learn for hyperparameter optimization with RandomizedSearchCV.\n",
        "- [ ] Submit your predictions to our Kaggle competition. (Go to our Kaggle InClass competition webpage. Use the blue **Submit Predictions** button to upload your CSV file. Or you can use the Kaggle API to submit your predictions.)\n",
        "- [ ] Commit your notebook to your fork of the GitHub repo.\n",
        "\n",
        "\n",
        "You won't be able to just copy from the lesson notebook to this assignment.\n",
        "\n",
        "- Because the lesson was ***regression***, but the assignment is ***classification.***\n",
        "- Because the lesson used [TargetEncoder](https://contrib.scikit-learn.org/categorical-encoding/targetencoder.html), which doesn't work as-is for _multi-class_ classification.\n",
        "\n",
        "So you will have to adapt the example, which is good real-world practice.\n",
        "\n",
        "1. Use a model for classification, such as [RandomForestClassifier](https://scikit-learn.org/stable/modules/generated/sklearn.ensemble.RandomForestClassifier.html)\n",
        "2. Use hyperparameters that match the classifier, such as `randomforestclassifier__ ...`\n",
        "3. Use a metric for classification, such as [`scoring='accuracy'`](https://scikit-learn.org/stable/modules/model_evaluation.html#common-cases-predefined-values)\n",
        "4. If you’re doing a multi-class classification problem — such as whether a waterpump is functional, functional needs repair, or nonfunctional — then use a categorical encoding that works for multi-class classification, such as [OrdinalEncoder](https://contrib.scikit-learn.org/categorical-encoding/ordinal.html) (not [TargetEncoder](https://contrib.scikit-learn.org/categorical-encoding/targetencoder.html))\n",
        "\n",
        "\n",
        "\n",
        "## Stretch Goals\n",
        "\n",
        "### Reading\n",
        "- Jake VanderPlas, [Python Data Science Handbook, Chapter 5.3](https://jakevdp.github.io/PythonDataScienceHandbook/05.03-hyperparameters-and-model-validation.html), Hyperparameters and Model Validation\n",
        "- Jake VanderPlas, [Statistics for Hackers](https://speakerdeck.com/jakevdp/statistics-for-hackers?slide=107)\n",
        "- Ron Zacharski, [A Programmer's Guide to Data Mining, Chapter 5](http://guidetodatamining.com/chapter5/), 10-fold cross validation\n",
        "- Sebastian Raschka, [A Basic Pipeline and Grid Search Setup](https://github.com/rasbt/python-machine-learning-book/blob/master/code/bonus/svm_iris_pipeline_and_gridsearch.ipynb)\n",
        "- Peter Worcester, [A Comparison of Grid Search and Randomized Search Using Scikit Learn](https://blog.usejournal.com/a-comparison-of-grid-search-and-randomized-search-using-scikit-learn-29823179bc85)\n",
        "\n",
        "### Doing\n",
        "- Add your own stretch goals!\n",
        "- Try other [categorical encodings](https://contrib.scikit-learn.org/categorical-encoding/). See the previous assignment notebook for details.\n",
        "- In additon to `RandomizedSearchCV`, scikit-learn has [`GridSearchCV`](https://scikit-learn.org/stable/modules/generated/sklearn.model_selection.GridSearchCV.html). Another library called scikit-optimize has [`BayesSearchCV`](https://scikit-optimize.github.io/notebooks/sklearn-gridsearchcv-replacement.html). Experiment with these alternatives.\n",
        "- _[Introduction to Machine Learning with Python](http://shop.oreilly.com/product/0636920030515.do)_ discusses options for \"Grid-Searching Which Model To Use\" in Chapter 6:\n",
        "\n",
        "> You can even go further in combining GridSearchCV and Pipeline: it is also possible to search over the actual steps being performed in the pipeline (say whether to use StandardScaler or MinMaxScaler). This leads to an even bigger search space and should be considered carefully. Trying all possible solutions is usually not a viable machine learning strategy. However, here is an example comparing a RandomForestClassifier and an SVC ...\n",
        "\n",
        "The example is shown in [the accompanying notebook](https://github.com/amueller/introduction_to_ml_with_python/blob/master/06-algorithm-chains-and-pipelines.ipynb), code cells 35-37. Could you apply this concept to your own pipelines?\n"
      ]
    },
    {
      "cell_type": "markdown",
      "metadata": {
        "id": "J6nDfFd7h4w6",
        "colab_type": "text"
      },
      "source": [
        "### BONUS: Stacking!\n",
        "\n",
        "Here's some code you can use to \"stack\" multiple submissions, which is another form of ensembling:\n",
        "\n",
        "```python\n",
        "import pandas as pd\n",
        "\n",
        "# Filenames of your submissions you want to ensemble\n",
        "files = ['submission-01.csv', 'submission-02.csv', 'submission-03.csv']\n",
        "\n",
        "target = 'status_group'\n",
        "submissions = (pd.read_csv(file)[[target]] for file in files)\n",
        "ensemble = pd.concat(submissions, axis='columns')\n",
        "majority_vote = ensemble.mode(axis='columns')[0]\n",
        "\n",
        "sample_submission = pd.read_csv('sample_submission.csv')\n",
        "submission = sample_submission.copy()\n",
        "submission[target] = majority_vote\n",
        "submission.to_csv('my-ultimate-ensemble-submission.csv', index=False)\n",
        "```"
      ]
    },
    {
      "cell_type": "code",
      "metadata": {
        "id": "XXanpnCAh4w9",
        "colab_type": "code",
        "colab": {}
      },
      "source": [
        "%%capture\n",
        "import sys\n",
        "\n",
        "# If you're on Colab:\n",
        "if 'google.colab' in sys.modules:\n",
        "    DATA_PATH = 'https://raw.githubusercontent.com/LambdaSchool/DS-Unit-2-Kaggle-Challenge/master/data/'\n",
        "    !pip install category_encoders==2.*\n",
        "\n",
        "# If you're working locally:\n",
        "else:\n",
        "    DATA_PATH = '../data/'"
      ],
      "execution_count": 0,
      "outputs": []
    },
    {
      "cell_type": "code",
      "metadata": {
        "id": "K3VrUzf5h4xU",
        "colab_type": "code",
        "outputId": "5e4c9683-ee96-44e6-fe9e-96c11b8e1e22",
        "colab": {
          "base_uri": "https://localhost:8080/",
          "height": 34
        }
      },
      "source": [
        "import pandas as pd\n",
        "from sklearn.model_selection import train_test_split\n",
        "\n",
        "# Merge train_features.csv & train_labels.csv\n",
        "train = pd.merge(pd.read_csv(DATA_PATH+'waterpumps/train_features.csv'), \n",
        "                 pd.read_csv(DATA_PATH+'waterpumps/train_labels.csv'))\n",
        "\n",
        "# Read test_features.csv & sample_submission.csv\n",
        "test = pd.read_csv(DATA_PATH+'waterpumps/test_features.csv')\n",
        "sample_submission = pd.read_csv(DATA_PATH+'waterpumps/sample_submission.csv')\n",
        "\n",
        "# Split train into train & val\n",
        "train, val = train_test_split(train, train_size=0.80, test_size=0.20, \n",
        "                              stratify=train['status_group'], random_state=0)\n",
        "\n",
        "train.shape, val.shape, test.shape"
      ],
      "execution_count": 0,
      "outputs": [
        {
          "output_type": "execute_result",
          "data": {
            "text/plain": [
              "((47520, 41), (11880, 41), (14358, 40))"
            ]
          },
          "metadata": {
            "tags": []
          },
          "execution_count": 3
        }
      ]
    },
    {
      "cell_type": "code",
      "metadata": {
        "id": "VHEaMI-Kh4xf",
        "colab_type": "code",
        "colab": {}
      },
      "source": [
        "import numpy as np\n",
        "\n",
        "def wrangle(X):\n",
        "    \"\"\"Wrangle train, validate, and test sets in the same way\"\"\"\n",
        "    \n",
        "    # Prevent SettingWithCopyWarning\n",
        "    X = X.copy()\n",
        "    \n",
        "    # About 3% of the time, latitude has small values near zero,\n",
        "    # outside Tanzania, so we'll treat these values like zero.\n",
        "    X['latitude'] = X['latitude'].replace(-2e-08, 0)\n",
        "    \n",
        "    # When columns have zeros and shouldn't, they are like null values.\n",
        "    # So we will replace the zeros with nulls, and impute missing values later.\n",
        "    # Also create a \"missing indicator\" column, because the fact that\n",
        "    # values are missing may be a predictive signal.\n",
        "    cols_with_zeros = ['longitude', 'latitude', 'construction_year', \n",
        "                       'gps_height', 'population']\n",
        "    for col in cols_with_zeros:\n",
        "        X[col] = X[col].replace(0, np.nan)\n",
        "        X[col+'_MISSING'] = X[col].isnull()\n",
        "            \n",
        "    # Drop duplicate columns\n",
        "    duplicates = ['quantity_group', 'payment_type']\n",
        "    X = X.drop(columns=duplicates)\n",
        "    \n",
        "    # Drop recorded_by (never varies) and id (always varies, random)\n",
        "    unusable_variance = ['recorded_by', 'id']\n",
        "    X = X.drop(columns=unusable_variance)\n",
        "    \n",
        "    # Convert date_recorded to datetime\n",
        "    X['date_recorded'] = pd.to_datetime(X['date_recorded'], infer_datetime_format=True)\n",
        "    \n",
        "    # Extract components from date_recorded, then drop the original column\n",
        "    X['year_recorded'] = X['date_recorded'].dt.year\n",
        "    X['month_recorded'] = X['date_recorded'].dt.month\n",
        "    X['day_recorded'] = X['date_recorded'].dt.day\n",
        "    X = X.drop(columns='date_recorded')\n",
        "    \n",
        "    # Engineer feature: how many years from construction_year to date_recorded\n",
        "    X['years'] = X['year_recorded'] - X['construction_year']\n",
        "    X['years_MISSING'] = X['years'].isnull()\n",
        "    \n",
        "    # return the wrangled dataframe\n",
        "    return X\n",
        "\n",
        "train = wrangle(train)\n",
        "val = wrangle(val)\n",
        "test = wrangle(test)"
      ],
      "execution_count": 0,
      "outputs": []
    },
    {
      "cell_type": "code",
      "metadata": {
        "id": "2j0Y25Iod4tf",
        "colab_type": "code",
        "outputId": "76ad044e-829f-4dba-9324-929992e501c8",
        "colab": {
          "base_uri": "https://localhost:8080/",
          "height": 377
        }
      },
      "source": [
        "train.head()"
      ],
      "execution_count": 0,
      "outputs": [
        {
          "output_type": "execute_result",
          "data": {
            "text/html": [
              "<div>\n",
              "<style scoped>\n",
              "    .dataframe tbody tr th:only-of-type {\n",
              "        vertical-align: middle;\n",
              "    }\n",
              "\n",
              "    .dataframe tbody tr th {\n",
              "        vertical-align: top;\n",
              "    }\n",
              "\n",
              "    .dataframe thead th {\n",
              "        text-align: right;\n",
              "    }\n",
              "</style>\n",
              "<table border=\"1\" class=\"dataframe\">\n",
              "  <thead>\n",
              "    <tr style=\"text-align: right;\">\n",
              "      <th></th>\n",
              "      <th>amount_tsh</th>\n",
              "      <th>funder</th>\n",
              "      <th>gps_height</th>\n",
              "      <th>installer</th>\n",
              "      <th>longitude</th>\n",
              "      <th>latitude</th>\n",
              "      <th>wpt_name</th>\n",
              "      <th>num_private</th>\n",
              "      <th>basin</th>\n",
              "      <th>subvillage</th>\n",
              "      <th>region</th>\n",
              "      <th>region_code</th>\n",
              "      <th>district_code</th>\n",
              "      <th>lga</th>\n",
              "      <th>ward</th>\n",
              "      <th>population</th>\n",
              "      <th>public_meeting</th>\n",
              "      <th>scheme_management</th>\n",
              "      <th>scheme_name</th>\n",
              "      <th>permit</th>\n",
              "      <th>construction_year</th>\n",
              "      <th>extraction_type</th>\n",
              "      <th>extraction_type_group</th>\n",
              "      <th>extraction_type_class</th>\n",
              "      <th>management</th>\n",
              "      <th>management_group</th>\n",
              "      <th>payment</th>\n",
              "      <th>water_quality</th>\n",
              "      <th>quality_group</th>\n",
              "      <th>quantity</th>\n",
              "      <th>source</th>\n",
              "      <th>source_type</th>\n",
              "      <th>source_class</th>\n",
              "      <th>waterpoint_type</th>\n",
              "      <th>waterpoint_type_group</th>\n",
              "      <th>status_group</th>\n",
              "      <th>longitude_MISSING</th>\n",
              "      <th>latitude_MISSING</th>\n",
              "      <th>construction_year_MISSING</th>\n",
              "      <th>gps_height_MISSING</th>\n",
              "      <th>population_MISSING</th>\n",
              "      <th>year_recorded</th>\n",
              "      <th>month_recorded</th>\n",
              "      <th>day_recorded</th>\n",
              "      <th>years</th>\n",
              "      <th>years_MISSING</th>\n",
              "    </tr>\n",
              "  </thead>\n",
              "  <tbody>\n",
              "    <tr>\n",
              "      <th>27760</th>\n",
              "      <td>50.0</td>\n",
              "      <td>Kiuma</td>\n",
              "      <td>690.0</td>\n",
              "      <td>KIUMA</td>\n",
              "      <td>36.957086</td>\n",
              "      <td>-11.311964</td>\n",
              "      <td>Kwa Mkwanda Mohamed</td>\n",
              "      <td>0</td>\n",
              "      <td>Ruvuma / Southern Coast</td>\n",
              "      <td>Kawawa</td>\n",
              "      <td>Ruvuma</td>\n",
              "      <td>10</td>\n",
              "      <td>1</td>\n",
              "      <td>Tunduru</td>\n",
              "      <td>Marumba</td>\n",
              "      <td>1.0</td>\n",
              "      <td>True</td>\n",
              "      <td>VWC</td>\n",
              "      <td>Mbati Water Supply</td>\n",
              "      <td>False</td>\n",
              "      <td>2011.0</td>\n",
              "      <td>submersible</td>\n",
              "      <td>submersible</td>\n",
              "      <td>submersible</td>\n",
              "      <td>vwc</td>\n",
              "      <td>user-group</td>\n",
              "      <td>pay per bucket</td>\n",
              "      <td>soft</td>\n",
              "      <td>good</td>\n",
              "      <td>enough</td>\n",
              "      <td>machine dbh</td>\n",
              "      <td>borehole</td>\n",
              "      <td>groundwater</td>\n",
              "      <td>communal standpipe multiple</td>\n",
              "      <td>communal standpipe</td>\n",
              "      <td>functional needs repair</td>\n",
              "      <td>False</td>\n",
              "      <td>False</td>\n",
              "      <td>False</td>\n",
              "      <td>False</td>\n",
              "      <td>False</td>\n",
              "      <td>2013</td>\n",
              "      <td>2</td>\n",
              "      <td>13</td>\n",
              "      <td>2.0</td>\n",
              "      <td>False</td>\n",
              "    </tr>\n",
              "    <tr>\n",
              "      <th>15161</th>\n",
              "      <td>0.0</td>\n",
              "      <td>Hesawa</td>\n",
              "      <td>NaN</td>\n",
              "      <td>DWE</td>\n",
              "      <td>33.058573</td>\n",
              "      <td>-2.595762</td>\n",
              "      <td>Kwa Lujina</td>\n",
              "      <td>0</td>\n",
              "      <td>Lake Victoria</td>\n",
              "      <td>Ilagaja</td>\n",
              "      <td>Mwanza</td>\n",
              "      <td>19</td>\n",
              "      <td>2</td>\n",
              "      <td>Magu</td>\n",
              "      <td>Kisesa</td>\n",
              "      <td>NaN</td>\n",
              "      <td>True</td>\n",
              "      <td>VWC</td>\n",
              "      <td>NaN</td>\n",
              "      <td>True</td>\n",
              "      <td>NaN</td>\n",
              "      <td>india mark ii</td>\n",
              "      <td>india mark ii</td>\n",
              "      <td>handpump</td>\n",
              "      <td>vwc</td>\n",
              "      <td>user-group</td>\n",
              "      <td>pay monthly</td>\n",
              "      <td>soft</td>\n",
              "      <td>good</td>\n",
              "      <td>enough</td>\n",
              "      <td>machine dbh</td>\n",
              "      <td>borehole</td>\n",
              "      <td>groundwater</td>\n",
              "      <td>hand pump</td>\n",
              "      <td>hand pump</td>\n",
              "      <td>functional</td>\n",
              "      <td>False</td>\n",
              "      <td>False</td>\n",
              "      <td>True</td>\n",
              "      <td>True</td>\n",
              "      <td>True</td>\n",
              "      <td>2011</td>\n",
              "      <td>7</td>\n",
              "      <td>26</td>\n",
              "      <td>NaN</td>\n",
              "      <td>True</td>\n",
              "    </tr>\n",
              "    <tr>\n",
              "      <th>37466</th>\n",
              "      <td>0.0</td>\n",
              "      <td>Ded</td>\n",
              "      <td>NaN</td>\n",
              "      <td>DWE</td>\n",
              "      <td>35.238216</td>\n",
              "      <td>-5.168248</td>\n",
              "      <td>Kilimba A</td>\n",
              "      <td>0</td>\n",
              "      <td>Internal</td>\n",
              "      <td>Kilimba A</td>\n",
              "      <td>Dodoma</td>\n",
              "      <td>1</td>\n",
              "      <td>1</td>\n",
              "      <td>Kondoa</td>\n",
              "      <td>Ovada</td>\n",
              "      <td>NaN</td>\n",
              "      <td>True</td>\n",
              "      <td>VWC</td>\n",
              "      <td>Ovad</td>\n",
              "      <td>False</td>\n",
              "      <td>NaN</td>\n",
              "      <td>cemo</td>\n",
              "      <td>other motorpump</td>\n",
              "      <td>motorpump</td>\n",
              "      <td>vwc</td>\n",
              "      <td>user-group</td>\n",
              "      <td>pay per bucket</td>\n",
              "      <td>soft</td>\n",
              "      <td>good</td>\n",
              "      <td>enough</td>\n",
              "      <td>machine dbh</td>\n",
              "      <td>borehole</td>\n",
              "      <td>groundwater</td>\n",
              "      <td>communal standpipe multiple</td>\n",
              "      <td>communal standpipe</td>\n",
              "      <td>functional</td>\n",
              "      <td>False</td>\n",
              "      <td>False</td>\n",
              "      <td>True</td>\n",
              "      <td>True</td>\n",
              "      <td>True</td>\n",
              "      <td>2011</td>\n",
              "      <td>3</td>\n",
              "      <td>14</td>\n",
              "      <td>NaN</td>\n",
              "      <td>True</td>\n",
              "    </tr>\n",
              "    <tr>\n",
              "      <th>50408</th>\n",
              "      <td>0.0</td>\n",
              "      <td>Adra</td>\n",
              "      <td>1300.0</td>\n",
              "      <td>Adra/Community</td>\n",
              "      <td>36.941756</td>\n",
              "      <td>-3.336709</td>\n",
              "      <td>John</td>\n",
              "      <td>0</td>\n",
              "      <td>Pangani</td>\n",
              "      <td>Kati</td>\n",
              "      <td>Arusha</td>\n",
              "      <td>2</td>\n",
              "      <td>7</td>\n",
              "      <td>Meru</td>\n",
              "      <td>Kikatiti</td>\n",
              "      <td>120.0</td>\n",
              "      <td>True</td>\n",
              "      <td>VWC</td>\n",
              "      <td>Mambreni gravity water supply</td>\n",
              "      <td>True</td>\n",
              "      <td>2003.0</td>\n",
              "      <td>gravity</td>\n",
              "      <td>gravity</td>\n",
              "      <td>gravity</td>\n",
              "      <td>vwc</td>\n",
              "      <td>user-group</td>\n",
              "      <td>unknown</td>\n",
              "      <td>unknown</td>\n",
              "      <td>unknown</td>\n",
              "      <td>insufficient</td>\n",
              "      <td>river</td>\n",
              "      <td>river/lake</td>\n",
              "      <td>surface</td>\n",
              "      <td>communal standpipe</td>\n",
              "      <td>communal standpipe</td>\n",
              "      <td>non functional</td>\n",
              "      <td>False</td>\n",
              "      <td>False</td>\n",
              "      <td>False</td>\n",
              "      <td>False</td>\n",
              "      <td>False</td>\n",
              "      <td>2013</td>\n",
              "      <td>4</td>\n",
              "      <td>3</td>\n",
              "      <td>10.0</td>\n",
              "      <td>False</td>\n",
              "    </tr>\n",
              "    <tr>\n",
              "      <th>42597</th>\n",
              "      <td>10.0</td>\n",
              "      <td>Giz</td>\n",
              "      <td>791.0</td>\n",
              "      <td>KILI WATER</td>\n",
              "      <td>37.469637</td>\n",
              "      <td>-3.393065</td>\n",
              "      <td>Kwa Iddi Mlaki</td>\n",
              "      <td>0</td>\n",
              "      <td>Pangani</td>\n",
              "      <td>Kati Chini</td>\n",
              "      <td>Kilimanjaro</td>\n",
              "      <td>3</td>\n",
              "      <td>4</td>\n",
              "      <td>Moshi Rural</td>\n",
              "      <td>Kirua Vunjo Kusini</td>\n",
              "      <td>55.0</td>\n",
              "      <td>True</td>\n",
              "      <td>WUA</td>\n",
              "      <td>Uchira water users association</td>\n",
              "      <td>True</td>\n",
              "      <td>2001.0</td>\n",
              "      <td>gravity</td>\n",
              "      <td>gravity</td>\n",
              "      <td>gravity</td>\n",
              "      <td>wua</td>\n",
              "      <td>user-group</td>\n",
              "      <td>pay per bucket</td>\n",
              "      <td>soft</td>\n",
              "      <td>good</td>\n",
              "      <td>enough</td>\n",
              "      <td>spring</td>\n",
              "      <td>spring</td>\n",
              "      <td>groundwater</td>\n",
              "      <td>communal standpipe</td>\n",
              "      <td>communal standpipe</td>\n",
              "      <td>functional</td>\n",
              "      <td>False</td>\n",
              "      <td>False</td>\n",
              "      <td>False</td>\n",
              "      <td>False</td>\n",
              "      <td>False</td>\n",
              "      <td>2013</td>\n",
              "      <td>9</td>\n",
              "      <td>3</td>\n",
              "      <td>12.0</td>\n",
              "      <td>False</td>\n",
              "    </tr>\n",
              "  </tbody>\n",
              "</table>\n",
              "</div>"
            ],
            "text/plain": [
              "       amount_tsh  funder  gps_height  ... day_recorded  years  years_MISSING\n",
              "27760        50.0   Kiuma       690.0  ...           13    2.0          False\n",
              "15161         0.0  Hesawa         NaN  ...           26    NaN           True\n",
              "37466         0.0     Ded         NaN  ...           14    NaN           True\n",
              "50408         0.0    Adra      1300.0  ...            3   10.0          False\n",
              "42597        10.0     Giz       791.0  ...            3   12.0          False\n",
              "\n",
              "[5 rows x 46 columns]"
            ]
          },
          "metadata": {
            "tags": []
          },
          "execution_count": 5
        }
      ]
    },
    {
      "cell_type": "code",
      "metadata": {
        "id": "1FqKjgUwd-fi",
        "colab_type": "code",
        "colab": {}
      },
      "source": [
        "# The status_group column is the target\n",
        "target = 'status_group'\n",
        "\n",
        "# Get a dataframe with all train columns except the target\n",
        "train_features = train.drop(columns=[target])\n",
        "\n",
        "# Get a list of the numeric features\n",
        "numeric_features = train_features.select_dtypes(include='number').columns.tolist()\n",
        "\n",
        "# Get a series with the cardinality of the nonnumeric features\n",
        "cardinality = train_features.select_dtypes(exclude='number').nunique()\n",
        "\n",
        "# Get a list of all categorical features with cardinality <= 50\n",
        "categorical_features = cardinality[cardinality <= 50].index.tolist()\n",
        "\n",
        "# add installer to categorical -HAS HIGH CARDINALITY AND MISSING VALUES, SO WE CONDENSE\n",
        "train['installer'] = train.installer.replace(np.NaN,'OTHER')\n",
        "installer = ['installer']\n",
        "\n",
        "val['installer'] = val.installer.replace(np.NaN,'OTHER')\n",
        "test['installer'] = test.installer.replace(np.NaN,'OTHER')\n",
        "\n",
        "# add recordedby to categorical  -HAS HIGH CARDINALITY AND MISSING VALUES, SO WE CONDENSE\n",
        "\n",
        "\n",
        "categorical_features = categorical_features + installer\n",
        "\n",
        "# Combine the lists \n",
        "features = numeric_features + categorical_features \n"
      ],
      "execution_count": 0,
      "outputs": []
    },
    {
      "cell_type": "code",
      "metadata": {
        "id": "2X8encEoeE2n",
        "colab_type": "code",
        "colab": {}
      },
      "source": [
        "# Arrange data into X features matrix and y target vector \n",
        "X_train = train[features]\n",
        "y_train = train[target]\n",
        "X_val = val[features]\n",
        "y_val = val[target]\n",
        "X_test = test[features]"
      ],
      "execution_count": 0,
      "outputs": []
    },
    {
      "cell_type": "code",
      "metadata": {
        "id": "Pa5Tzzxdgkhi",
        "colab_type": "code",
        "outputId": "cd472b0d-4716-4c13-c64b-2d52ce5ed26b",
        "colab": {
          "base_uri": "https://localhost:8080/",
          "height": 119
        }
      },
      "source": [
        "# top 10 \n",
        "\n",
        "for x in categorical_features:\n",
        "  top10 = X_train[x].value_counts()[:10].index\n",
        "\n",
        "  X_train.loc[~X_train[x].isin(top10), x] = 'OTHER'\n",
        "  X_val.loc[~X_val[x].isin(top10), x] = 'OTHER'\n",
        "  X_test.loc[~X_test[x].isin(top10), x] = 'OTHER'"
      ],
      "execution_count": 0,
      "outputs": [
        {
          "output_type": "stream",
          "text": [
            "/usr/local/lib/python3.6/dist-packages/pandas/core/indexing.py:494: SettingWithCopyWarning: \n",
            "A value is trying to be set on a copy of a slice from a DataFrame.\n",
            "Try using .loc[row_indexer,col_indexer] = value instead\n",
            "\n",
            "See the caveats in the documentation: http://pandas.pydata.org/pandas-docs/stable/user_guide/indexing.html#returning-a-view-versus-a-copy\n",
            "  self.obj[item] = s\n"
          ],
          "name": "stderr"
        }
      ]
    },
    {
      "cell_type": "code",
      "metadata": {
        "id": "qi9kWePag86S",
        "colab_type": "code",
        "outputId": "cb4ce96d-255b-48e1-bfff-c6f44e27d44c",
        "colab": {
          "base_uri": "https://localhost:8080/",
          "height": 34
        }
      },
      "source": [
        "from sklearn.tree import DecisionTreeClassifier\n",
        "import category_encoders as ce\n",
        "from sklearn.impute import SimpleImputer\n",
        "from sklearn.linear_model import LogisticRegression\n",
        "from sklearn.pipeline import make_pipeline\n",
        "from sklearn.preprocessing import StandardScaler\n",
        "\n",
        "#DECISION TREE\n",
        "\n",
        "pipeline2 = make_pipeline(\n",
        "    ce.OneHotEncoder(use_cat_names=True),\n",
        "    SimpleImputer(strategy='mean'),\n",
        "    StandardScaler(),\n",
        "    DecisionTreeClassifier(random_state=0, min_samples_leaf=8,  max_leaf_nodes=600)  \n",
        ")\n",
        "\n",
        "pipeline2.fit(X_train, y_train)\n",
        "\n",
        "print ('Training Accuracy:', pipeline2.score(X_train,y_train),'Validation Accuracy:', pipeline2.score(X_val, y_val))"
      ],
      "execution_count": 0,
      "outputs": [
        {
          "output_type": "stream",
          "text": [
            "Training Accuracy: 0.811679292929293 Validation Accuracy: 0.7773569023569024\n"
          ],
          "name": "stdout"
        }
      ]
    },
    {
      "cell_type": "code",
      "metadata": {
        "id": "EXJ7j2mGhPGa",
        "colab_type": "code",
        "outputId": "66d48ab0-2124-4688-ec05-a2f9ae7da823",
        "colab": {
          "base_uri": "https://localhost:8080/",
          "height": 34
        }
      },
      "source": [
        "from sklearn.ensemble import RandomForestClassifier\n",
        "# RANDOM TREE CLASSIFIER\n",
        "\n",
        "# ordinal encode\n",
        "pipeline4 = make_pipeline(\n",
        "    ce.OrdinalEncoder(),\n",
        "    SimpleImputer(strategy='mean'),\n",
        "    RandomForestClassifier(random_state=0, n_jobs=-1, min_samples_leaf=2,oob_score=True)\n",
        ")\n",
        "\n",
        "pipeline4.fit(X_train, y_train)\n",
        "print ('Training Accuracy',pipeline4.score(X_train,y_train),'Validation Accuracy', pipeline4.score(X_val, y_val))"
      ],
      "execution_count": 0,
      "outputs": [
        {
          "output_type": "stream",
          "text": [
            "Training Accuracy 0.8927609427609428 Validation Accuracy 0.8143939393939394\n"
          ],
          "name": "stdout"
        }
      ]
    },
    {
      "cell_type": "code",
      "metadata": {
        "id": "LD3FRS7ShwyZ",
        "colab_type": "code",
        "outputId": "86c22ffa-3fca-4e4f-92cd-d90c9baa3f61",
        "colab": {
          "base_uri": "https://localhost:8080/",
          "height": 34
        }
      },
      "source": [
        "from sklearn.model_selection import cross_val_score\n",
        "\n",
        "pipeline5 = make_pipeline(\n",
        "    ce.OrdinalEncoder(),\n",
        "    SimpleImputer(),\n",
        "    RandomForestClassifier()#random_state=0, n_jobs=-1, min_samples_leaf=2,oob_score=True,)\n",
        ")\n",
        "\n",
        "k = 3\n",
        "scores = cross_val_score(pipeline5, X_train, y_train, cv=k, scoring='accuracy')\n",
        "print(f'Accuracy for {k} folds:', scores)"
      ],
      "execution_count": 0,
      "outputs": [
        {
          "output_type": "stream",
          "text": [
            "MAE for 5 folds: [0.79703283 0.79808502 0.80997475 0.7996633  0.79598064]\n"
          ],
          "name": "stdout"
        }
      ]
    },
    {
      "cell_type": "code",
      "metadata": {
        "id": "8iWT3_Xcohry",
        "colab_type": "code",
        "outputId": "23f5ca4f-95df-471a-ae0a-15ce8d5d7749",
        "colab": {
          "base_uri": "https://localhost:8080/",
          "height": 238
        }
      },
      "source": [
        "from sklearn.model_selection import RandomizedSearchCV\n",
        "\n",
        "param_distributions = { \n",
        "    'randomforestclassifier__min_samples_leaf': range(0, 4,1), \n",
        "    'randomforestclassifier__max_depth': range(70,150,5), \n",
        "}\n",
        "\n",
        "# If you're on Colab, decrease n_iter & cv parameters\n",
        "search = RandomizedSearchCV(\n",
        "    pipeline5, \n",
        "    param_distributions=param_distributions, \n",
        "    n_iter=25, \n",
        "    cv=3, \n",
        "    scoring='accuracy', \n",
        "    verbose=10, \n",
        "    return_train_score=True, \n",
        "    n_jobs=-1\n",
        ")\n",
        "\n",
        "search.fit(X_train, y_train);"
      ],
      "execution_count": 58,
      "outputs": [
        {
          "output_type": "stream",
          "text": [
            "Fitting 3 folds for each of 25 candidates, totalling 75 fits\n"
          ],
          "name": "stdout"
        },
        {
          "output_type": "stream",
          "text": [
            "[Parallel(n_jobs=-1)]: Using backend LokyBackend with 2 concurrent workers.\n",
            "[Parallel(n_jobs=-1)]: Done   1 tasks      | elapsed:   12.6s\n",
            "[Parallel(n_jobs=-1)]: Done   4 tasks      | elapsed:   24.4s\n",
            "[Parallel(n_jobs=-1)]: Done   9 tasks      | elapsed:  1.0min\n",
            "[Parallel(n_jobs=-1)]: Done  14 tasks      | elapsed:  1.4min\n",
            "[Parallel(n_jobs=-1)]: Done  21 tasks      | elapsed:  2.2min\n",
            "[Parallel(n_jobs=-1)]: Done  28 tasks      | elapsed:  2.6min\n",
            "[Parallel(n_jobs=-1)]: Done  37 tasks      | elapsed:  3.4min\n",
            "[Parallel(n_jobs=-1)]: Done  46 tasks      | elapsed:  4.0min\n",
            "[Parallel(n_jobs=-1)]: Done  57 tasks      | elapsed:  4.7min\n",
            "[Parallel(n_jobs=-1)]: Done  68 tasks      | elapsed:  5.6min\n",
            "[Parallel(n_jobs=-1)]: Done  75 out of  75 | elapsed:  5.7min finished\n"
          ],
          "name": "stderr"
        }
      ]
    },
    {
      "cell_type": "code",
      "metadata": {
        "id": "5SBm_dXT01Zj",
        "colab_type": "code",
        "outputId": "e9f0b2aa-5f6e-48c1-f0e7-8f7bccd33301",
        "colab": {
          "base_uri": "https://localhost:8080/",
          "height": 51
        }
      },
      "source": [
        "print('Best hyperparameters', search.best_params_)\n",
        "print('Cross-validation accuracy', search.best_score_)"
      ],
      "execution_count": 59,
      "outputs": [
        {
          "output_type": "stream",
          "text": [
            "Best hyperparameters {'randomforestclassifier__min_samples_leaf': 2, 'randomforestclassifier__max_depth': 125}\n",
            "Cross-validation accuracy 0.8041666666666667\n"
          ],
          "name": "stdout"
        }
      ]
    },
    {
      "cell_type": "code",
      "metadata": {
        "id": "Npaf5CAnntUu",
        "colab_type": "code",
        "outputId": "0ee8c08c-ff0f-47b2-9516-c306211cf2e1",
        "colab": {
          "base_uri": "https://localhost:8080/",
          "height": 51
        }
      },
      "source": [
        "print('Best hyperparameters', search.best_params_)\n",
        "print('Cross-validation accuracy', search.best_score_)"
      ],
      "execution_count": 0,
      "outputs": [
        {
          "output_type": "stream",
          "text": [
            "Best hyperparameters {'simpleimputer__strategy': 'median', 'randomforestclassifier__min_samples_split': 4, 'randomforestclassifier__min_samples_leaf': 2}\n",
            "Cross-validation accuracy 0.803303872053872\n"
          ],
          "name": "stdout"
        }
      ]
    },
    {
      "cell_type": "code",
      "metadata": {
        "id": "jtlP4lMo0VlJ",
        "colab_type": "code",
        "colab": {}
      },
      "source": [
        "# min split and min leaf: .8033"
      ],
      "execution_count": 0,
      "outputs": []
    }
  ]
}